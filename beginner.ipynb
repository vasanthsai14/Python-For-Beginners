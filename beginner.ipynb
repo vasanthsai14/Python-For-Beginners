{
 "cells": [
  {
   "cell_type": "code",
   "execution_count": 1,
   "id": "6b54a2a6",
   "metadata": {},
   "outputs": [
    {
     "name": "stdout",
     "output_type": "stream",
     "text": [
      "Enter student's name:Vasanth Sai T\n",
      "Enter student's USN:129\n",
      "Enter marks in subject1:90\n",
      "Enter marks in subject2:88\n",
      "Enter marks in subject3:92\n",
      "\n",
      "Student Details:\n",
      "Name:  Vasanth Sai T\n",
      "USN:  129\n",
      "Marks in Subject1:  90.0\n",
      "Marks in Subject2:  88.0\n",
      "Marks in Subject3:  92.0\n",
      "Total Marks:  270.0\n",
      "Percentage:  90.0 %\n",
      "Excellent!Keep up the goodwork!\n"
     ]
    }
   ],
   "source": [
    "name=input(\"Enter student's name:\")\n",
    "usn=input(\"Enter student's USN:\")\n",
    "marks1=float(input(\"Enter marks in subject1:\"))\n",
    "marks2=float(input(\"Enter marks in subject2:\"))\n",
    "marks3=float(input(\"Enter marks in subject3:\"))\n",
    "total_marks=marks1+marks2+marks3\n",
    "percentage=(total_marks/300)*100\n",
    "print(\"\\nStudent Details:\")\n",
    "print(\"Name: \",name)\n",
    "print(\"USN: \",usn)\n",
    "print(\"Marks in Subject1: \",marks1)\n",
    "print(\"Marks in Subject2: \",marks2)\n",
    "print(\"Marks in Subject3: \",marks3)\n",
    "print(\"Total Marks: \",total_marks)\n",
    "print(\"Percentage: \",percentage,\"%\")\n",
    "if percentage>=90:\n",
    "    print(\"Excellent!Keep up the goodwork!\")\n",
    "elif percentage>=80:\n",
    "    print(\"Very Good!Keep it up!\")\n",
    "elif percentage>=70:\n",
    "    print(\"Good!You can do better!\")\n",
    "elif percentage>=60:\n",
    "    print(\"Average!Work harder!\")\n",
    "else:\n",
    "    print(\"Poor!You need to improve your performance!\")"
   ]
  },
  {
   "cell_type": "code",
   "execution_count": 2,
   "id": "a72d1639",
   "metadata": {},
   "outputs": [
    {
     "name": "stdout",
     "output_type": "stream",
     "text": [
      "Enter the length of the fibonacci sequence :25\n",
      " The Fibonacci Sequence :\n",
      "\n",
      "[0, 1, 1, 2, 3, 5, 8, 13, 21, 34, 55, 89, 144, 233, 377, 610, 987, 1597, 2584, 4181, 6765, 10946, 17711, 28657, 46368]\n"
     ]
    }
   ],
   "source": [
    "n=int(input(\"Enter the length of the fibonacci sequence :\"))\n",
    "fib=[0 , 1 ]\n",
    "for i in range (2,n):\n",
    "    value= fib[i-1]+fib[i-2]\n",
    "    fib.append(value)\n",
    "print(\" The Fibonacci Sequence :\\n\")\n",
    "print(fib)"
   ]
  },
  {
   "cell_type": "code",
   "execution_count": 3,
   "id": "b53f988e",
   "metadata": {},
   "outputs": [
    {
     "name": "stdout",
     "output_type": "stream",
     "text": [
      "Enter value of n to compute the binary coefficient : 7\n",
      "Enter value of k to compute the binary coefficient : 3\n",
      "Binary Coefficient:  35\n"
     ]
    }
   ],
   "source": [
    "def factorial(n):\n",
    "    if n==1 or n==0:\n",
    "        return 1\n",
    "    else:\n",
    "        return n*factorial(n-1)\n",
    "\n",
    "def binomial_coefficient(n,r):\n",
    "    return factorial(n)//(factorial(r)*factorial(n-r))\n",
    "\n",
    "n=int(input(\"Enter value of n to compute the binary coefficient : \"))\n",
    "r=int(input(\"Enter value of k to compute the binary coefficient : \"))\n",
    "print(\"Binary Coefficient: \",binomial_coefficient(n,r))\n"
   ]
  },
  {
   "cell_type": "code",
   "execution_count": 4,
   "id": "8142d6a8",
   "metadata": {},
   "outputs": [
    {
     "name": "stdout",
     "output_type": "stream",
     "text": [
      " Enter the number of elements : 10\n",
      "Enter values one by one \n",
      "Enter element 1: 34\n",
      "Enter element 2: 65\n",
      "Enter element 3: 29\n",
      "Enter element 4: 90\n",
      "Enter element 5: 76\n",
      "Enter element 6: 109\n",
      "Enter element 7: 67\n",
      "Enter element 8: 43\n",
      "Enter element 9: 67\n",
      "Enter element 10: 28\n",
      "Mean =  60.8\n",
      "Variance =  662.3599999999999\n",
      "Standard Deviation =  25.73635560836071\n"
     ]
    }
   ],
   "source": [
    "import math\n",
    "numbers=[]\n",
    "n=int(input(\" Enter the number of elements : \"))\n",
    "print(\"Enter values one by one \")\n",
    "for i in range(n):\n",
    "    numbers.append(int(input(\"Enter element \"+str(i+1)+\": \")))\n",
    "mean=sum(numbers)/n\n",
    "variance = sum(map(lambda x:(x-mean)**2 , numbers))/n\n",
    "std_devn = math.sqrt(variance)\n",
    "print(\"Mean = \",mean)\n",
    "print(\"Variance = \",variance)\n",
    "print(\"Standard Deviation = \",std_devn)"
   ]
  },
  {
   "cell_type": "code",
   "execution_count": 5,
   "id": "2dfa37b3",
   "metadata": {},
   "outputs": [
    {
     "name": "stdout",
     "output_type": "stream",
     "text": [
      "Enter the input filename: letters.txt\n",
      "Enter the output filename: outputf.txt\n",
      "Contents sorted and written to outputf.txt file\n"
     ]
    }
   ],
   "source": [
    "inputf = input(\"Enter the input filename: \")\n",
    "outputf = input(\"Enter the output filename: \")\n",
    "\n",
    "try:\n",
    "    with open(inputf, \"r\") as f:\n",
    "        contents = f.readlines()\n",
    "        contents.sort()\n",
    "\n",
    "    with open(outputf, \"w\") as w:\n",
    "        for line in contents:\n",
    "            w.write(line) \n",
    "\n",
    "    print(f\"Contents sorted and written to {outputf} file\")\n",
    "\n",
    "except Exception as e:\n",
    "    print(f\"An error occurred: {str(e)}\")\n"
   ]
  },
  {
   "cell_type": "code",
   "execution_count": 6,
   "id": "f1034e66",
   "metadata": {},
   "outputs": [
    {
     "name": "stdout",
     "output_type": "stream",
     "text": [
      "Enter student name:Vasanth Sai \n",
      "Enter student USN:129\n",
      "Enter marks 1: 88\n",
      "Enter marks 2: 90\n",
      "Enter marks 3: 92\n",
      "Name : Vasanth Sai \n",
      "USN : 129\n",
      "Marks : [88, 90, 92]\n",
      "Total : 270\n",
      "Percentage : 89.991\n"
     ]
    }
   ],
   "source": [
    "class Student:\n",
    "    \n",
    "    def __init__(self, name,usn):\n",
    "        self.name=name\n",
    "        self.usn=usn\n",
    "        self.marks=[0,0,0]\n",
    "        self.total=0\n",
    "        \n",
    "    def getmarks(self):\n",
    "        for i in range(3):\n",
    "            self.marks[i]=int(input(f\"Enter marks {i+1}: \"))\n",
    "        self.total=sum(self.marks)\n",
    "    \n",
    "    def display(self):\n",
    "        print(f\"Name : {self.name}\")\n",
    "        print(f\"USN : {self.usn}\")\n",
    "        print(f\"Marks : {self.marks}\")\n",
    "        print(f\"Total : {self.total}\")\n",
    "        print(f\"Percentage : {self.total*0.3333}\")\n",
    "    \n",
    "name=input(\"Enter student name:\")\n",
    "usn=input(\"Enter student USN:\")\n",
    "s=Student(name,usn)\n",
    "s.getmarks()\n",
    "s.display()\n"
   ]
  },
  {
   "cell_type": "code",
   "execution_count": 7,
   "id": "ac6e0fce",
   "metadata": {},
   "outputs": [
    {
     "name": "stdout",
     "output_type": "stream",
     "text": [
      "Enter the number of elements : 10\n",
      "Enter the element 1: 12\n",
      "Enter the element 2: 23\n",
      "Enter the element 3: 34\n",
      "Enter the element 4: 45\n",
      "Enter the element 5: 56\n",
      "Enter the element 6: 67\n",
      "Enter the element 7: 78\n",
      "Enter the element 8: 89\n",
      "Enter the element 9: 90\n",
      "Enter the element 10: 108\n",
      "Enter the key element to search : 78\n",
      "Element 78 found at position 7\n"
     ]
    }
   ],
   "source": [
    "def binary_search(arr,key):\n",
    "    low,high=0,len(arr)-1\n",
    "    while low<=high:\n",
    "        mid=(low+high)//2\n",
    "        if arr[mid]==key:\n",
    "            return mid\n",
    "        elif arr[mid]<key:\n",
    "            low=mid+1\n",
    "        else:\n",
    "            high=mid-1\n",
    "    return -1\n",
    "my_list=[]\n",
    "n=int(input(\"Enter the number of elements : \"))\n",
    "for i in range(n):\n",
    "    my_list.append(int(input(f\"Enter the element {i+1}: \")))\n",
    "my_list.sort()\n",
    "key=int(input(\"Enter the key element to search : \"))\n",
    "index=binary_search(my_list,key)\n",
    "if index==-1:\n",
    "    print(f\"Element {key} not found in the list \")\n",
    "else:\n",
    "    print(f\"Element {key} found at position {index+1}\")"
   ]
  },
  {
   "cell_type": "code",
   "execution_count": 8,
   "id": "23f05627",
   "metadata": {},
   "outputs": [
    {
     "name": "stdout",
     "output_type": "stream",
     "text": [
      "Unsorted List\n",
      "[168, 885, 530, 567, 205, 416, 500, 870, 504, 922]\n",
      "Sorting using Quick Sort\n",
      "[168, 205, 416, 500, 504, 530, 567, 870, 885, 922]\n"
     ]
    }
   ],
   "source": [
    "import random\n",
    "def quicksort(arr):\n",
    "    if len(arr) <= 1:\n",
    "        return arr\n",
    "    pivot = arr[0]\n",
    "    lesser_than = []\n",
    "    greater_than = []\n",
    "    for i in arr[1:]:\n",
    "        if i <= pivot:\n",
    "            lesser_than.append(i)\n",
    "        else:\n",
    "            greater_than.append(i)\n",
    "    sorted_lesser_than = quicksort(lesser_than)\n",
    "    sorted_greater_than = quicksort(greater_than)\n",
    "    return sorted_lesser_than + [pivot] + sorted_greater_than\n",
    "\n",
    "my_list = [random.randint(0, 999) for i in range(10)]\n",
    "print(\"Unsorted List\")\n",
    "print(my_list)\n",
    "print(\"Sorting using Quick Sort\")\n",
    "print(quicksort(my_list))"
   ]
  },
  {
   "cell_type": "code",
   "execution_count": 9,
   "id": "90f31e85",
   "metadata": {},
   "outputs": [
    {
     "name": "stdout",
     "output_type": "stream",
     "text": [
      "Enter marks for test1 : 90\n",
      "Enter marks for test2 : 98\n",
      "Enter marks for test3 : 76\n",
      "Average of best two test marks out of three test’s marks is 94.0\n"
     ]
    }
   ],
   "source": [
    "m1 = int(input(\"Enter marks for test1 : \"))\n",
    "m2 = int(input(\"Enter marks for test2 : \"))\n",
    "m3 = int(input(\"Enter marks for test3 : \"))\n",
    "if m1 <= m2 and m1 <= m3:\n",
    "    avgMarks = (m2+m3)/2\n",
    "elif m2 <= m1 and m2 <= m3:\n",
    "    avgMarks = (m1+m3)/2\n",
    "elif m3 <= m1 and m3 <= m2:\n",
    "    avgMarks = (m1+m2)/2\n",
    "print(\"Average of best two test marks out of three test’s marks is\", avgMarks)"
   ]
  },
  {
   "cell_type": "code",
   "execution_count": 10,
   "id": "140884a6",
   "metadata": {},
   "outputs": [
    {
     "name": "stdout",
     "output_type": "stream",
     "text": [
      "Enter a number to check if its palindrome or not :123321\n",
      "Palindrome Number\n",
      "1  appears  2  times\n",
      "2  appears  2  times\n",
      "3  appears  2  times\n"
     ]
    }
   ],
   "source": [
    "val=int(input(\"Enter a number to check if its palindrome or not :\"))\n",
    "str_val=str(val)\n",
    "\n",
    "if str_val==str_val[::-1]:\n",
    "    print(\"Palindrome Number\")\n",
    "else:\n",
    "    print(\"Not a Palindrome number\")\n",
    "\n",
    "for i in range(10):\n",
    "    if str_val.count(str(i))>0:\n",
    "        print(str(i),\" appears \",str_val.count(str(i)),\" times\")"
   ]
  },
  {
   "cell_type": "code",
   "execution_count": 11,
   "id": "17641af7",
   "metadata": {},
   "outputs": [
    {
     "name": "stdout",
     "output_type": "stream",
     "text": [
      "Enter a number :5\n",
      "Fn( 5 ) = 3\n"
     ]
    }
   ],
   "source": [
    "def fn(n):\n",
    "    if n==1:\n",
    "        return 0\n",
    "    elif n==2:\n",
    "        return 1\n",
    "    else:\n",
    "        return fn(n-1)+fn(n-2)\n",
    "    \n",
    "n=int(input(\"Enter a number :\"))\n",
    "if n>0:\n",
    "    print(\"Fn(\",n,\") =\",fn(n))\n",
    "else:\n",
    "    print(\"Error in input\")"
   ]
  },
  {
   "cell_type": "code",
   "execution_count": 12,
   "id": "2a5872aa",
   "metadata": {},
   "outputs": [
    {
     "name": "stdout",
     "output_type": "stream",
     "text": [
      "Enter a binary number to convert it to decimal : 10100011110\n",
      "Decimal Equivalent of  10100011110 is  1310\n",
      "Enter an octal number to convert it to hexadecimal : 677\n",
      "Decimal Equivalent of  677 is  447\n",
      "Hexadecimal Equivalent of  677 is  1BF\n"
     ]
    }
   ],
   "source": [
    "def bin2dec(binary):\n",
    "    decimal =0\n",
    "    power=0\n",
    "    while (binary!=0):\n",
    "        digit = binary%10\n",
    "        decimal += (digit*(2**power))\n",
    "        binary//=10\n",
    "        power+=1\n",
    "    return decimal\n",
    "\n",
    "def oct2hex(octal):\n",
    "    decimal=0\n",
    "    power=0\n",
    "    temp=octal\n",
    "    while temp!=0:\n",
    "        digit=temp%10\n",
    "        decimal+=digit*(8**power)\n",
    "        temp//=10\n",
    "        power+=1\n",
    "    print(\"Decimal Equivalent of \",octal ,\"is \",decimal )\n",
    "    hexadecimal=\"\"\n",
    "    hex_values=\"0123456789ABCDEF\"\n",
    "    while decimal!=0:\n",
    "        remainder=decimal%16\n",
    "        hexadecimal = hex_values[remainder]+hexadecimal\n",
    "        decimal//=16\n",
    "    return hexadecimal\n",
    "\n",
    "bin = input(\"Enter a binary number to convert it to decimal : \")\n",
    "dec= bin2dec(int(bin))\n",
    "print(\"Decimal Equivalent of \",bin ,\"is \",dec )\n",
    "oct = input(\"Enter an octal number to convert it to hexadecimal : \")\n",
    "hex= oct2hex(int(oct))\n",
    "print(\"Hexadecimal Equivalent of \",oct ,\"is \",hex )"
   ]
  },
  {
   "cell_type": "code",
   "execution_count": 13,
   "id": "6103014c",
   "metadata": {},
   "outputs": [
    {
     "name": "stdout",
     "output_type": "stream",
     "text": [
      " Enter a Sentence: The Quick Brown Fox Jumped Over The Lazy Dog 1 time \n",
      "Number of words:  11\n",
      "Number of digits:  1\n",
      "Number of uppercase letters :  9\n",
      "Number of lowercase letters:  31\n"
     ]
    }
   ],
   "source": [
    "def analyze_sentence(sentence):\n",
    "    word_count=len(sentence.split())\n",
    "    digit_count=0\n",
    "    uppercase_count=0\n",
    "    lowercase_count=0\n",
    "    for char in sentence:\n",
    "        if char.isdigit():\n",
    "            digit_count+=1\n",
    "        elif char.isupper():\n",
    "            uppercase_count+=1\n",
    "        elif char.islower():\n",
    "            lowercase_count+=1\n",
    "    return word_count,digit_count,uppercase_count,lowercase_count\n",
    "\n",
    "sentence=input(\" Enter a Sentence: \")\n",
    "word_count,digit_count,uppercase_count,lowercase_count=analyze_sentence(sentence)\n",
    "print(\"Number of words: \",word_count)\n",
    "print(\"Number of digits: \",digit_count)\n",
    "print(\"Number of uppercase letters : \",uppercase_count)\n",
    "print(\"Number of lowercase letters: \",lowercase_count)"
   ]
  },
  {
   "cell_type": "code",
   "execution_count": 14,
   "id": "b7195c64",
   "metadata": {},
   "outputs": [
    {
     "name": "stdout",
     "output_type": "stream",
     "text": [
      "Enter the string 1: Python Exercises\n",
      "Enter the string 2: Python Exercise\n",
      "Similarity between two strings : \n",
      "0.9375\n"
     ]
    }
   ],
   "source": [
    "#Similarity between two strings\n",
    "str1=input(\"Enter the string 1: \")\n",
    "str2=input(\"Enter the string 2: \")\n",
    "if len(str1)<len(str2):\n",
    "    short=len(str1)\n",
    "    long=len(str2)\n",
    "else:\n",
    "    short=len(str2)\n",
    "    long=len(str1)\n",
    "match_count=0\n",
    "for i in range(short):\n",
    "    if str1[i]==str2[i]:\n",
    "        match_count+=1\n",
    "print(\"Similarity between two strings : \")\n",
    "print(match_count/long)"
   ]
  },
  {
   "cell_type": "code",
   "execution_count": 15,
   "id": "2173dce8",
   "metadata": {},
   "outputs": [
    {
     "name": "stdout",
     "output_type": "stream",
     "text": [
      "Enter a Roman Number : CDXLIX\n",
      "Decimal Equivalent : 449\n"
     ]
    }
   ],
   "source": [
    "def roman2dec(romanstr):\n",
    "    my_dict={'I':1,\n",
    "             'V':5,\n",
    "             'X':10,\n",
    "             'L':50,\n",
    "             'C':100,\n",
    "             'D':500,\n",
    "             'M':1000\n",
    "            }\n",
    "    romanBack=list(romanstr)[::-1]\n",
    "    value=0\n",
    "    right_val=my_dict[romanBack[0]]\n",
    "    for numeral in romanBack:\n",
    "        left_val=my_dict[numeral]\n",
    "        if left_val<right_val:\n",
    "            value-=left_val\n",
    "        else:\n",
    "            value+=left_val\n",
    "        right_val=left_val\n",
    "    return value\n",
    "\n",
    "roman=input(\"Enter a Roman Number : \")\n",
    "print(\"Decimal Equivalent :\",roman2dec(roman))    "
   ]
  },
  {
   "cell_type": "code",
   "execution_count": 16,
   "id": "fc86aae3",
   "metadata": {},
   "outputs": [
    {
     "name": "stdout",
     "output_type": "stream",
     "text": [
      "\n",
      "Unsorted List\n",
      "[104, 752, 941, 905, 908, 875, 83, 100, 778, 249, 484, 76, 104, 616, 55, 63, 930, 303, 902, 816]\n",
      "\n",
      "Sorting using Insertion Sort :\n",
      "[55, 63, 76, 83, 100, 104, 104, 249, 303, 484, 616, 752, 778, 816, 875, 902, 905, 908, 930, 941]\n",
      "\n",
      "Unsorted List\n",
      "[40, 438, 784, 459, 266, 47, 433, 449, 160, 814, 288, 706, 751, 181, 861, 650, 493, 854, 630, 533]\n",
      "\n",
      "Sorting using Merge Sort :\n",
      "[40, 47, 160, 181, 266, 288, 433, 438, 449, 459, 493, 533, 630, 650, 706, 751, 784, 814, 854, 861]\n"
     ]
    }
   ],
   "source": [
    "import random \n",
    "\n",
    "def merge_sort(rec):\n",
    "    if len(rec)>1:\n",
    "        mid=len(rec)//2\n",
    "        left_half=rec[:mid]\n",
    "        right_half=rec[mid:]\n",
    "        merge_sort(left_half)\n",
    "        merge_sort(right_half)\n",
    "        \n",
    "        i=j=k=0\n",
    "        while i<len(left_half) and j<len(right_half):\n",
    "            if left_half[i]<right_half[j]:\n",
    "                rec[k]=left_half[i]\n",
    "                i+=1\n",
    "            else:\n",
    "                rec[k]=right_half[j]\n",
    "                j+=1\n",
    "            k+=1\n",
    "        while i<len(left_half):\n",
    "            rec[k]=left_half[i]\n",
    "            i+=1\n",
    "            k+=1\n",
    "        while j<len(right_half):\n",
    "            rec[k]=right_half[j]\n",
    "            j+=1\n",
    "            k+=1\n",
    "    return rec\n",
    "\n",
    "def insertion_sort(arr):\n",
    "    for i in range(1,len(arr)):\n",
    "        key=arr[i]\n",
    "        j=i-1\n",
    "        while j>=0 and key<arr[j]:\n",
    "            arr[j+1]=arr[j]\n",
    "            j-=1\n",
    "        arr[j+1]=key\n",
    "            \n",
    "my_list=[]\n",
    "for i in range(20):\n",
    "    my_list.append(random.randint(0,999))\n",
    "print(\"\\nUnsorted List\")\n",
    "print(my_list)\n",
    "print(\"\\nSorting using Insertion Sort :\")\n",
    "insertion_sort(my_list)\n",
    "print(my_list)\n",
    "\n",
    "my_list=[]\n",
    "for i in range(20):\n",
    "    my_list.append(random.randint(0,999))\n",
    "print(\"\\nUnsorted List\")\n",
    "print(my_list)\n",
    "print(\"\\nSorting using Merge Sort :\")\n",
    "my_list=merge_sort(my_list)\n",
    "print(my_list)"
   ]
  },
  {
   "cell_type": "code",
   "execution_count": 17,
   "id": "bef3521b",
   "metadata": {},
   "outputs": [
    {
     "name": "stdout",
     "output_type": "stream",
     "text": [
      "Enter the Phone Number: 123-123-1234\n",
      "Without using Regular Expression:\n",
      "Valid Phone Number\n",
      "Using Regular Expression:\n",
      "Valid Phone Number\n"
     ]
    }
   ],
   "source": [
    "#Write a function called isphonenumber( ) to recognize a pattern 415-555-4242 without using regular expression and also write\n",
    "#the code to recognize the same pattern using regular expression\n",
    "import re\n",
    "def isphonenumber(num):\n",
    "    if len(num) != 12:\n",
    "        return False\n",
    "    for i in range(len(num)):\n",
    "        if i == 3 or i == 7:\n",
    "            if num[i] != '-':\n",
    "                return False\n",
    "        else:\n",
    "            if not num[i].isdigit():\n",
    "                return False\n",
    "    return True\n",
    "\n",
    "def checkphonenumber(numstr):\n",
    "    ph_no_pattern = re.compile(r'^\\d{3}-\\d{3}-\\d{4}$')\n",
    "    return bool(ph_no_pattern.match(numstr))\n",
    "\n",
    "phone = input(\"Enter the Phone Number: \")\n",
    "print(\"Without using Regular Expression:\")\n",
    "if isphonenumber(phone):\n",
    "    print(\"Valid Phone Number\")\n",
    "else:\n",
    "    print(\"Invalid Phone Number\")\n",
    "\n",
    "print(\"Using Regular Expression:\")\n",
    "if checkphonenumber(phone):\n",
    "    print(\"Valid Phone Number\")\n",
    "else:\n",
    "    print(\"Invalid Phone Number\")\n",
    "                            "
   ]
  },
  {
   "cell_type": "code",
   "execution_count": 18,
   "id": "22e1b7c0",
   "metadata": {},
   "outputs": [
    {
     "name": "stdout",
     "output_type": "stream",
     "text": [
      "thecoolmaverick@gmail.com\n",
      "+918108795381\n"
     ]
    }
   ],
   "source": [
    "#Develop a Python program that could search the text in a file for phone numbers (+919900889977) and \n",
    "#email addresses (sample@gmail.com)\n",
    "import re\n",
    "phone_regex=re.compile(r'\\+\\d{12}')\n",
    "email_regex=re.compile(r'[A-Za-z0-9]+@[A-Za-z0-9]+\\.[A-Z|a-z]{2,}')\n",
    "with open('example.txt','r') as f:\n",
    "    for line in f:\n",
    "        matches=phone_regex.findall(line)\n",
    "        for match in matches:\n",
    "            print(match)\n",
    "        matches=email_regex.findall(line)\n",
    "        for match in matches:\n",
    "            print(match)      "
   ]
  },
  {
   "cell_type": "code",
   "execution_count": 20,
   "id": "3898402f",
   "metadata": {},
   "outputs": [
    {
     "name": "stdout",
     "output_type": "stream",
     "text": [
      "Enter the filename : voyager1.txt\n",
      "1 : Voyager 1: The Farthest Human-Made Object from Earth\n",
      "\n",
      "2 : Voyager 1, launched in 1977, is part of NASA's Voyager program, designed for outer space exploration.\n",
      "\n",
      "3 : Its primary mission was to study Jupiter and Saturn, leading to discoveries about their atmospheres and moons.\n",
      "\n",
      "4 : It identified active volcanoes on Jupiter's moon Io.\n",
      "\n",
      "5 : After Saturn, Voyager 1 continued on a path out of the solar system.\n",
      "\n",
      "6 : It carries a Golden Record with sounds and music from Earth, a message for extraterrestrials.\n",
      "\n",
      "7 : Powered by radioisotope thermoelectric generators (RTGs), it's now the farthest human-made object.\n",
      "\n",
      "8 : In 2012, it entered interstellar space, crossing the heliopause.\n",
      "\n",
      "9 : Voyager 1 communicates with Earth via NASA's Deep Space Network, with a 21-hour signal delay.\n",
      "\n",
      "10 : Over time, instruments have been turned off to conserve power, but it still sends data.\n",
      "\n",
      "11 : The \"Pale Blue Dot\" image shows Earth from a vast distance.\n",
      "\n",
      "12 : Its mission continues, transmitting data about interstellar space conditions.\n",
      "\n",
      "13 : It travels at 38,000 mph (61,000 km/h) relative to the Sun.\n",
      "\n",
      "14 : Voyager 1 carries a plaque as a message to potential extraterrestrial life.\n",
      "\n",
      "15 : It symbolizes human exploration and curiosity.\n",
      "\n",
      "16 : Signal travel time to Earth is about 19 hours.\n",
      "\n",
      "17 : Voyager 1's data has led to numerous scientific discoveries.\n",
      "\n",
      "18 : It confirmed entering interstellar space by detecting cosmic ray increases.\n",
      "\n",
      "19 : Despite age, its instruments still function, exceeding mission expectations.\n",
      "\n",
      "20 : A testament to NASA's spacecraft durability and longevity.\n",
      "\n",
      "Enter a word : voyager\n",
      "The word  voyager  appears  0  times in the file\n"
     ]
    }
   ],
   "source": [
    "import os.path\n",
    "import sys\n",
    "\n",
    "filename = input(\"Enter the filename : \")\n",
    "if not os.path.isfile(filename):\n",
    "    print(\"File \", filename, \" doesn't exist\")\n",
    "    sys.exit(0)\n",
    "infile = open(filename, \"r\")\n",
    "lineList = infile.readlines()\n",
    "for i in range(20):\n",
    "    print(i+1, \":\", lineList[i])\n",
    "\n",
    "word = input(\"Enter a word : \")\n",
    "count = 0\n",
    "for line in lineList:\n",
    "    count += line.count(word)\n",
    "print(\"The word \", word, \" appears \", count, \" times in the file\")"
   ]
  },
  {
   "cell_type": "code",
   "execution_count": 21,
   "id": "be86ed69",
   "metadata": {},
   "outputs": [
    {
     "name": "stdout",
     "output_type": "stream",
     "text": [
      "Enter Directory name that you want to backup : Planets\n",
      "Archive myZip.zip created successfully\n"
     ]
    }
   ],
   "source": [
    "import os\n",
    "import pathlib\n",
    "import sys\n",
    "import zipfile\n",
    "directory_name=input(\"Enter Directory name that you want to backup : \")\n",
    "if not os.path.isdir(directory_name):\n",
    "    print(\"Directory\", directory_name, \"doesn't exist\")\n",
    "    sys.exit(0)\n",
    "\n",
    "current_Directory = pathlib.Path(directory_name)\n",
    "with zipfile.ZipFile(\"myZip.zip\", mode=\"w\") as archive:\n",
    "    for file_path in current_Directory.rglob(\"*\"):\n",
    "        archive.write(file_path, arcname=file_path.relative_to(current_Directory))\n",
    "\n",
    "if os.path.isfile(\"myZip.zip\"):\n",
    "    print(\"Archive\", \"myZip.zip\", \"created successfully\")\n",
    "else:\n",
    "    print(\"Error in creating zip archive\")"
   ]
  },
  {
   "cell_type": "code",
   "execution_count": 22,
   "id": "7d5da3ae",
   "metadata": {},
   "outputs": [
    {
     "name": "stdout",
     "output_type": "stream",
     "text": [
      "The area of the Circle is 78.53981633974483 units\n",
      "The area of the Rectangle is 20 units\n",
      "The area of the Triangle is 6.0 units\n"
     ]
    }
   ],
   "source": [
    "import math\n",
    "class Shape:\n",
    "    def __init__(self):\n",
    "        self.area = 0\n",
    "        self.name = \"\"\n",
    "    def showArea(self):\n",
    "        print(\"The area of the\", self.name, \"is\", self.area, \"units\")\n",
    "\n",
    "class Circle(Shape):\n",
    "    def __init__(self,radius):\n",
    "        self.area = 0\n",
    "        self.name = \"Circle\"\n",
    "        self.radius = radius\n",
    "    def calcArea(self):\n",
    "        self.area = math.pi * self.radius * self.radius\n",
    "\n",
    "class Rectangle(Shape):\n",
    "    def __init__(self,length,breadth):\n",
    "        self.area = 0\n",
    "        self.name = \"Rectangle\"\n",
    "        self.length = length\n",
    "        self.breadth = breadth\n",
    "    def calcArea(self):\n",
    "        self.area = self.length * self.breadth\n",
    "        \n",
    "class Triangle(Shape):\n",
    "    def __init__(self,base,height):\n",
    "        self.area = 0\n",
    "        self.name = \"Triangle\"\n",
    "        self.base = base\n",
    "        self.height = height\n",
    "    def calcArea(self):\n",
    "        self.area = self.base * self.height / 2\n",
    "\n",
    "c1 = Circle(5)\n",
    "c1.calcArea()\n",
    "c1.showArea()\n",
    "\n",
    "r1 = Rectangle(5, 4)\n",
    "r1.calcArea()\n",
    "r1.showArea()\n",
    "\n",
    "t1 = Triangle(3, 4)\n",
    "t1.calcArea()\n",
    "t1.showArea()\n"
   ]
  },
  {
   "cell_type": "code",
   "execution_count": 23,
   "id": "ade4c0f7",
   "metadata": {},
   "outputs": [
    {
     "name": "stdout",
     "output_type": "stream",
     "text": [
      "Enter a string : MALAYALAM\n",
      "Given string is a Palindrome\n",
      "Enter an integer : 8147\n",
      "Given integer is not a Palindrome\n"
     ]
    }
   ],
   "source": [
    "class PaliStr:\n",
    "    def __init__(self):\n",
    "        self.isPali = False\n",
    "        \n",
    "    def chkPalindrome(self, myStr):\n",
    "        if myStr == myStr[::-1]:\n",
    "            self.isPali = True\n",
    "        else:\n",
    "            self.isPali = False\n",
    "        return self.isPali\n",
    "\n",
    "class PaliInt(PaliStr):\n",
    "    def __init__(self):\n",
    "        self.isPali = False\n",
    "        \n",
    "    def chkPalindrome(self, val):\n",
    "        temp = val\n",
    "        rev = 0\n",
    "        while temp != 0:\n",
    "            dig = temp % 10\n",
    "            rev = (rev*10) + dig\n",
    "            temp = temp //10\n",
    "        if val == rev:\n",
    "            self.isPali = True\n",
    "        else:\n",
    "            self.isPali = False\n",
    "        return self.isPali\n",
    "    \n",
    "st = input(\"Enter a string : \")\n",
    "stObj = PaliStr()\n",
    "if stObj.chkPalindrome(st):\n",
    "    print(\"Given string is a Palindrome\")\n",
    "else:\n",
    "    print(\"Given string is not a Palindrome\")\n",
    "\n",
    "val = int(input(\"Enter an integer : \"))\n",
    "intObj = PaliInt()\n",
    "if intObj.chkPalindrome(val):\n",
    "    print(\"Given integer is a Palindrome\")\n",
    "else:\n",
    "    print(\"Given integer is not a Palindrome\")"
   ]
  },
  {
   "cell_type": "code",
   "execution_count": 24,
   "id": "81b3a321",
   "metadata": {},
   "outputs": [
    {
     "name": "stdout",
     "output_type": "stream",
     "text": [
      "Enter Employee name : Debarghya das\n",
      "Enter Employee ID : FTXEYH-685\n",
      "Enter Employee Dept : Digital Marketing\n",
      "Enter Employee Salary : 85670\n",
      "Employee Details\n",
      "Name :  Debarghya das\n",
      "ID :  FTXEYH-685\n",
      "Dept :  Digital Marketing\n",
      "Salary :  85670\n",
      "Enter new Salary : 90000\n",
      "Updated Salary 90000\n"
     ]
    }
   ],
   "source": [
    "class Employee:\n",
    "    def __init__(self):\n",
    "        self.name = \"\"\n",
    "        self.empId = \"\"\n",
    "        self.dept = \"\"\n",
    "        self.salary = 0\n",
    "        \n",
    "    def getEmpDetails(self):\n",
    "        self.name = input(\"Enter Employee name : \")\n",
    "        self.empId = input(\"Enter Employee ID : \")\n",
    "        self.dept = input(\"Enter Employee Dept : \")\n",
    "        self.salary = int(input(\"Enter Employee Salary : \"))\n",
    "        \n",
    "    def showEmpDetails(self):\n",
    "        print(\"Employee Details\")\n",
    "        print(\"Name : \", self.name)\n",
    "        print(\"ID : \", self.empId)\n",
    "        print(\"Dept : \", self.dept)\n",
    "        print(\"Salary : \", self.salary)\n",
    "        \n",
    "    def updtSalary(self):\n",
    "        self.salary = int(input(\"Enter new Salary : \"))\n",
    "        print(\"Updated Salary\", self.salary)\n",
    "\n",
    "e1 = Employee()\n",
    "e1.getEmpDetails()\n",
    "e1.showEmpDetails()\n",
    "e1.updtSalary()"
   ]
  },
  {
   "cell_type": "code",
   "execution_count": 25,
   "id": "96de5f87",
   "metadata": {},
   "outputs": [
    {
     "name": "stdout",
     "output_type": "stream",
     "text": [
      "Current temperature: 15.45°C\n",
      "Humidity: 65%\n",
      "Weather description: clear sky\n"
     ]
    }
   ],
   "source": [
    "import json\n",
    "\n",
    "# Load the JSON data from file\n",
    "with open('weather_data.json') as f:\n",
    "    data = json.load(f)\n",
    "    \n",
    "# Extract the required weather data\n",
    "current_temp = data['main']['temp']\n",
    "humidity = data['main']['humidity']\n",
    "weather_desc = data['weather'][0]['description']\n",
    "\n",
    "# Display the weather data\n",
    "print(f\"Current temperature: {current_temp}°C\")\n",
    "print(f\"Humidity: {humidity}%\")\n",
    "print(f\"Weather description: {weather_desc}\")"
   ]
  },
  {
   "cell_type": "code",
   "execution_count": 26,
   "id": "d9f605a0",
   "metadata": {},
   "outputs": [
    {
     "name": "stdout",
     "output_type": "stream",
     "text": [
      "Enter page number you want combine from multiple documents6\n"
     ]
    }
   ],
   "source": [
    "from PyPDF2 import PdfWriter, PdfReader\n",
    "\n",
    "num = int(input(\"Enter page number you want combine from multiple documents\"))\n",
    "\n",
    "pdf1 = open('maps.pdf', 'rb')\n",
    "pdf2 = open('document.pdf', 'rb')\n",
    "pdf_writer = PdfWriter()\n",
    "\n",
    "pdf1_reader = PdfReader(pdf1)\n",
    "page = pdf1_reader.pages[num - 1]\n",
    "pdf_writer.add_page(page)\n",
    "\n",
    "pdf2_reader = PdfReader(pdf2)\n",
    "page = pdf2_reader.pages[num - 1]\n",
    "pdf_writer.add_page(page)\n",
    "\n",
    "with open('output.pdf', 'wb') as output:\n",
    "    pdf_writer.write(output)"
   ]
  },
  {
   "cell_type": "code",
   "execution_count": 27,
   "id": "ae69c311",
   "metadata": {},
   "outputs": [
    {
     "name": "stdout",
     "output_type": "stream",
     "text": [
      "Downloading https://imgs.xkcd.com/comics/barrel_cropped_(1).jpg ...\n",
      "Downloading https://imgs.xkcd.com/comics/xkcd_phone_flip.png ...\n",
      "Downloading https://imgs.xkcd.com/comics/haunted_house.png ...\n",
      "Downloading https://imgs.xkcd.com/comics/iceberg_efficiency.png ...\n",
      "Downloading https://imgs.xkcd.com/comics/exoplanet_observation.png ...\n",
      "Downloading https://imgs.xkcd.com/comics/brassica.png ...\n",
      "Downloading https://imgs.xkcd.com/comics/gold.png ...\n",
      "Downloading https://imgs.xkcd.com/comics/autumn_and_fall.png ...\n",
      "Downloading https://imgs.xkcd.com/comics/abstract_pickup.png ...\n",
      "Downloading https://imgs.xkcd.com/comics/fossil.png ...\n",
      "All comics downloaded\n"
     ]
    }
   ],
   "source": [
    "#web scraping\n",
    "import os\n",
    "import requests\n",
    "from bs4 import BeautifulSoup\n",
    "url=\"https://xkcd.com/1/\"\n",
    "if not os.path.exists('xkcd_comics'):\n",
    "    os.makedirs('xkcd_comics')\n",
    "for _ in range(10): #Downloading 10 images from the website\n",
    "    res=requests.get(url)\n",
    "    res.raise_for_status()\n",
    "    soup=BeautifulSoup(res.text,'html.parser')\n",
    "    comic_elem=soup.select('#comic img')\n",
    "    if comic_elem==[]:\n",
    "        print(\"Could not find the image\")\n",
    "    else:\n",
    "        comic_url='https:'+comic_elem[0].get('src')\n",
    "        print(f\"Downloading {comic_url} ...\")\n",
    "        res=requests.get(comic_url)\n",
    "        res.raise_for_status()\n",
    "    image_file=open(os.path.join('xkcd_comics',os.path.basename(comic_url)),'wb')\n",
    "    for chunk in res.iter_content(100000):\n",
    "        image_file.write(chunk)\n",
    "    image_file.close()\n",
    "    prev_link=soup.select('a[rel=\"prev\"]')[0]\n",
    "    if not prev_link:\n",
    "        break\n",
    "    url='https://xkcd.com'+prev_link.get('href')\n",
    "print(\"All comics downloaded\")"
   ]
  },
  {
   "cell_type": "code",
   "execution_count": 32,
   "id": "ad303717",
   "metadata": {},
   "outputs": [
    {
     "name": "stdout",
     "output_type": "stream",
     "text": [
      "Enter the state code for finding capital : TS\n",
      "Corresponding capital for code : Hyderabad\n",
      "Enter the state code for finding language : KA\n",
      "Corresponding language for code : Kannada\n"
     ]
    }
   ],
   "source": [
    "from openpyxl import Workbook\n",
    "from openpyxl.styles import Font\n",
    "\n",
    "wb=Workbook()\n",
    "sheet=wb.active\n",
    "sheet.title=\"Language\"\n",
    "wb.create_sheet(title=\"Capital\")\n",
    "\n",
    "lang=[\"Kannada\",\"Telugu\",\"Tamil\"]\n",
    "state=[\"Karnataka\",\"Telangana\",\"Tamil Nadu\"]\n",
    "capital=[\"Bengaluru\",\"Hyderabad\",\"Chennai\"]\n",
    "code=[\"KA\",\"TS\",\"TN\"]\n",
    "\n",
    "sheet.cell(row=1 , column=1).value=\"State\"\n",
    "sheet.cell(row=1 , column=2 ).value=\"Language\"\n",
    "sheet.cell(row=1 , column=3).value=\"Code\"\n",
    "\n",
    "ft=Font(bold=True)\n",
    "for row in sheet[\"A1:C1\"]:\n",
    "    for cell in row:\n",
    "        cell.font=ft\n",
    "\n",
    "for i in range(2,5):\n",
    "    sheet.cell(row=i , column=1).value=state[i-2]\n",
    "    sheet.cell(row=i , column=2).value=lang[i-2]\n",
    "    sheet.cell(row=i , column=3).value=code[i-2]\n",
    "\n",
    "wb.save(\"demo.xlsx\")\n",
    "sheet=wb[\"Capital\"]\n",
    "\n",
    "sheet.cell(row=1 , column=1).value=\"State\"\n",
    "sheet.cell(row=1 , column=2 ).value=\"Capital\"\n",
    "sheet.cell(row=1 , column=3).value=\"Code\"\n",
    "\n",
    "ft=Font(bold=True)\n",
    "for row in sheet[\"A1:C1\"]:\n",
    "    for cell in row:\n",
    "        cell.font=ft\n",
    "\n",
    "for i in range(2,5):\n",
    "    sheet.cell(row=i , column=1).value=state[i-2]\n",
    "    sheet.cell(row=i , column=2).value=capital[i-2]\n",
    "    sheet.cell(row=i , column=3).value=code[i-2]\n",
    "    \n",
    "wb.save(\"demo.xlsx\")\n",
    "\n",
    "search_code=input(\"Enter the state code for finding capital : \")\n",
    "for i in range(2,5):\n",
    "    data=sheet.cell(row=i , column=3).value\n",
    "    if data==search_code:\n",
    "        print(\"Corresponding capital for code :\",sheet.cell(row=i , column=2).value)\n",
    "        \n",
    "sheet=wb[\"Language\"]\n",
    "search_code=input(\"Enter the state code for finding language : \")\n",
    "for i in range(2,5):\n",
    "    data=sheet.cell(row=i , column=3).value\n",
    "    if data==search_code:\n",
    "        print(\"Corresponding language for code :\",sheet.cell(row=i , column=2).value)\n",
    "        \n",
    "wb.close()"
   ]
  }
 ],
 "metadata": {
  "kernelspec": {
   "display_name": "Python 3 (ipykernel)",
   "language": "python",
   "name": "python3"
  },
  "language_info": {
   "codemirror_mode": {
    "name": "ipython",
    "version": 3
   },
   "file_extension": ".py",
   "mimetype": "text/x-python",
   "name": "python",
   "nbconvert_exporter": "python",
   "pygments_lexer": "ipython3",
   "version": "3.9.12"
  }
 },
 "nbformat": 4,
 "nbformat_minor": 5
}
